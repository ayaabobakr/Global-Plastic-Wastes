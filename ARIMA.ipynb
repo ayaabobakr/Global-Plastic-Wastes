{
 "cells": [
  {
   "attachments": {},
   "cell_type": "markdown",
   "metadata": {},
   "source": [
    "# Preperation"
   ]
  },
  {
   "cell_type": "code",
   "execution_count": 184,
   "metadata": {},
   "outputs": [
    {
     "data": {
      "text/plain": [
       "['wastebase_scan_summary_202103F.csv',\n",
       " 'wastebase_scan_summary_202104F.csv',\n",
       " 'wastebase_scan_summary_202105F.csv',\n",
       " 'wastebase_scan_summary_202106F.csv',\n",
       " 'wastebase_scan_summary_202107F.csv',\n",
       " 'wastebase_scan_summary_202108F.csv',\n",
       " 'wastebase_scan_summary_202109F.csv',\n",
       " 'wastebase_scan_summary_202110F.csv',\n",
       " 'wastebase_scan_summary_202111F.csv',\n",
       " 'wastebase_scan_summary_202112F.csv',\n",
       " 'wastebase_scan_summary_202201F.csv',\n",
       " 'wastebase_scan_summary_202202F.csv',\n",
       " 'wastebase_scan_summary_202203F.csv',\n",
       " 'wastebase_scan_summary_202204F.csv',\n",
       " 'wastebase_scan_summary_202205F.csv',\n",
       " 'wastebase_scan_summary_202206F.csv',\n",
       " 'wastebase_scan_summary_202207F.csv',\n",
       " 'wastebase_scan_summary_202208F.csv']"
      ]
     },
     "execution_count": 184,
     "metadata": {},
     "output_type": "execute_result"
    }
   ],
   "source": [
    "import pandas as pd\n",
    "import os\n",
    "import glob\n",
    "import warnings\n",
    "warnings.filterwarnings('ignore', category=FutureWarning)\n",
    "#read the path\n",
    "file_path = \"D:\\\\UNI Materials\\\\Year 3\\\\Sem.1\\\\Data Analysis\\\\Project1\"\n",
    "#list all the files from the directory\n",
    "file_list = os.listdir(file_path)\n",
    "file_list\n",
    "csv_files = glob.glob('*.{}'.format('csv'))\n",
    "csv_files"
   ]
  },
  {
   "cell_type": "code",
   "execution_count": 185,
   "metadata": {},
   "outputs": [],
   "source": [
    "#Merge all files into one df\n",
    "df = pd.concat([pd.read_csv(f) for f in csv_files ], ignore_index=True)"
   ]
  },
  {
   "attachments": {},
   "cell_type": "markdown",
   "metadata": {},
   "source": [
    "# Preprocessing"
   ]
  },
  {
   "cell_type": "code",
   "execution_count": 186,
   "metadata": {},
   "outputs": [
    {
     "name": "stdout",
     "output_type": "stream",
     "text": [
      "<class 'pandas.core.frame.DataFrame'>\n",
      "RangeIndex: 1066213 entries, 0 to 1066212\n",
      "Data columns (total 11 columns):\n",
      " #   Column                Non-Null Count  Dtype  \n",
      "---  ------                --------------  -----  \n",
      " 0   product_barcode       17775 non-null  float64\n",
      " 1   product_label         17775 non-null  object \n",
      " 2   product_size          17775 non-null  object \n",
      " 3   brand_name            17775 non-null  object \n",
      " 4   manufacturer_country  17760 non-null  object \n",
      " 5   manufacturer_name     17775 non-null  object \n",
      " 6   scan_country          17775 non-null  object \n",
      " 7   data_url              17775 non-null  object \n",
      " 8   bottle_weight         963 non-null    float64\n",
      " 9   bottle_count          17775 non-null  float64\n",
      " 10  Date                  17775 non-null  object \n",
      "dtypes: float64(3), object(8)\n",
      "memory usage: 89.5+ MB\n"
     ]
    }
   ],
   "source": [
    "df.info()"
   ]
  },
  {
   "cell_type": "code",
   "execution_count": 187,
   "metadata": {},
   "outputs": [
    {
     "data": {
      "text/plain": [
       "product_barcode         1048438\n",
       "product_label           1048438\n",
       "product_size            1048438\n",
       "brand_name              1048438\n",
       "manufacturer_country    1048453\n",
       "manufacturer_name       1048438\n",
       "scan_country            1048438\n",
       "data_url                1048438\n",
       "bottle_weight           1065250\n",
       "bottle_count            1048438\n",
       "Date                    1048438\n",
       "dtype: int64"
      ]
     },
     "execution_count": 187,
     "metadata": {},
     "output_type": "execute_result"
    }
   ],
   "source": [
    "#Get the columns count with null values\n",
    "df.isna().sum()"
   ]
  },
  {
   "cell_type": "code",
   "execution_count": 188,
   "metadata": {},
   "outputs": [],
   "source": [
    "# Drop records that contain null values in all the columns\n",
    "df=df.dropna(how='all')"
   ]
  },
  {
   "cell_type": "code",
   "execution_count": 189,
   "metadata": {},
   "outputs": [],
   "source": [
    "# Dimentionality Reduction\n",
    "df.drop(columns=['data_url', 'bottle_weight'],inplace=True)"
   ]
  },
  {
   "cell_type": "code",
   "execution_count": 190,
   "metadata": {},
   "outputs": [
    {
     "data": {
      "text/html": [
       "<div>\n",
       "<style scoped>\n",
       "    .dataframe tbody tr th:only-of-type {\n",
       "        vertical-align: middle;\n",
       "    }\n",
       "\n",
       "    .dataframe tbody tr th {\n",
       "        vertical-align: top;\n",
       "    }\n",
       "\n",
       "    .dataframe thead th {\n",
       "        text-align: right;\n",
       "    }\n",
       "</style>\n",
       "<table border=\"1\" class=\"dataframe\">\n",
       "  <thead>\n",
       "    <tr style=\"text-align: right;\">\n",
       "      <th></th>\n",
       "      <th>index</th>\n",
       "      <th>product_barcode</th>\n",
       "      <th>product_label</th>\n",
       "      <th>product_size</th>\n",
       "      <th>brand_name</th>\n",
       "      <th>manufacturer_country</th>\n",
       "      <th>manufacturer_name</th>\n",
       "      <th>scan_country</th>\n",
       "      <th>bottle_count</th>\n",
       "      <th>Date</th>\n",
       "    </tr>\n",
       "  </thead>\n",
       "  <tbody>\n",
       "    <tr>\n",
       "      <th>0</th>\n",
       "      <td>0</td>\n",
       "      <td>6.106960e+11</td>\n",
       "      <td>Vimto Gasificado</td>\n",
       "      <td>350 ml</td>\n",
       "      <td>Vimto</td>\n",
       "      <td>GB</td>\n",
       "      <td>Nichols plc</td>\n",
       "      <td>MZ</td>\n",
       "      <td>1.0</td>\n",
       "      <td>Mar-21</td>\n",
       "    </tr>\n",
       "    <tr>\n",
       "      <th>1</th>\n",
       "      <td>1</td>\n",
       "      <td>8.179390e+11</td>\n",
       "      <td>Anti-Bac All Purpose Cleaner</td>\n",
       "      <td>828ml</td>\n",
       "      <td>Method</td>\n",
       "      <td>US</td>\n",
       "      <td>Method Products pbc</td>\n",
       "      <td>GB</td>\n",
       "      <td>1.0</td>\n",
       "      <td>Mar-21</td>\n",
       "    </tr>\n",
       "    <tr>\n",
       "      <th>2</th>\n",
       "      <td>2</td>\n",
       "      <td>2.089620e+12</td>\n",
       "      <td>Agua Mineral</td>\n",
       "      <td>5.0 L</td>\n",
       "      <td>Água de Namaacha</td>\n",
       "      <td>MZ</td>\n",
       "      <td>Sociedade de Águas de Moçambique</td>\n",
       "      <td>MZ</td>\n",
       "      <td>1.0</td>\n",
       "      <td>Mar-21</td>\n",
       "    </tr>\n",
       "    <tr>\n",
       "      <th>3</th>\n",
       "      <td>3</td>\n",
       "      <td>4.082243e+07</td>\n",
       "      <td>Bonaqua Mineral Water</td>\n",
       "      <td>500 ml</td>\n",
       "      <td>Bonaqua</td>\n",
       "      <td>US</td>\n",
       "      <td>Coca-Cola</td>\n",
       "      <td>MZ</td>\n",
       "      <td>9.0</td>\n",
       "      <td>Mar-21</td>\n",
       "    </tr>\n",
       "    <tr>\n",
       "      <th>4</th>\n",
       "      <td>4</td>\n",
       "      <td>4.238066e+07</td>\n",
       "      <td>Fanta Litchi</td>\n",
       "      <td>280 ml</td>\n",
       "      <td>Fanta</td>\n",
       "      <td>US</td>\n",
       "      <td>Coca-Cola</td>\n",
       "      <td>MZ</td>\n",
       "      <td>6.0</td>\n",
       "      <td>Mar-21</td>\n",
       "    </tr>\n",
       "    <tr>\n",
       "      <th>...</th>\n",
       "      <td>...</td>\n",
       "      <td>...</td>\n",
       "      <td>...</td>\n",
       "      <td>...</td>\n",
       "      <td>...</td>\n",
       "      <td>...</td>\n",
       "      <td>...</td>\n",
       "      <td>...</td>\n",
       "      <td>...</td>\n",
       "      <td>...</td>\n",
       "    </tr>\n",
       "    <tr>\n",
       "      <th>17770</th>\n",
       "      <td>1066208</td>\n",
       "      <td>9.556140e+12</td>\n",
       "      <td>Drinking Water</td>\n",
       "      <td>1.5 L</td>\n",
       "      <td>Summer</td>\n",
       "      <td>UK</td>\n",
       "      <td>UNKNOWN_ORG</td>\n",
       "      <td>MZ</td>\n",
       "      <td>1.0</td>\n",
       "      <td>Aug-22</td>\n",
       "    </tr>\n",
       "    <tr>\n",
       "      <th>17771</th>\n",
       "      <td>1066209</td>\n",
       "      <td>9.556400e+12</td>\n",
       "      <td>Lemon Lime Drink</td>\n",
       "      <td>515 ml</td>\n",
       "      <td>Gatorade</td>\n",
       "      <td>US</td>\n",
       "      <td>Pepsico, Inc</td>\n",
       "      <td>MZ</td>\n",
       "      <td>1.0</td>\n",
       "      <td>Aug-22</td>\n",
       "    </tr>\n",
       "    <tr>\n",
       "      <th>17772</th>\n",
       "      <td>1066210</td>\n",
       "      <td>9.716190e+12</td>\n",
       "      <td>Agua Purificada</td>\n",
       "      <td>1.5 L</td>\n",
       "      <td>Nevada</td>\n",
       "      <td>MZ</td>\n",
       "      <td>Nevada General Supplies Co, Lda</td>\n",
       "      <td>MZ</td>\n",
       "      <td>48.0</td>\n",
       "      <td>Aug-22</td>\n",
       "    </tr>\n",
       "    <tr>\n",
       "      <th>17773</th>\n",
       "      <td>1066211</td>\n",
       "      <td>9.716190e+12</td>\n",
       "      <td>Agua Purificada</td>\n",
       "      <td>5.0 L</td>\n",
       "      <td>Nevada</td>\n",
       "      <td>MZ</td>\n",
       "      <td>Nevada General Supplies Co, Lda</td>\n",
       "      <td>MZ</td>\n",
       "      <td>83.0</td>\n",
       "      <td>Aug-22</td>\n",
       "    </tr>\n",
       "    <tr>\n",
       "      <th>17774</th>\n",
       "      <td>1066212</td>\n",
       "      <td>9.716190e+12</td>\n",
       "      <td>Agua Purificada</td>\n",
       "      <td>500ml</td>\n",
       "      <td>Nevada</td>\n",
       "      <td>MZ</td>\n",
       "      <td>Nevada General Supplies Co, Lda</td>\n",
       "      <td>MZ</td>\n",
       "      <td>229.0</td>\n",
       "      <td>Aug-22</td>\n",
       "    </tr>\n",
       "  </tbody>\n",
       "</table>\n",
       "<p>17775 rows × 10 columns</p>\n",
       "</div>"
      ],
      "text/plain": [
       "         index  product_barcode                 product_label product_size  \\\n",
       "0            0     6.106960e+11              Vimto Gasificado       350 ml   \n",
       "1            1     8.179390e+11  Anti-Bac All Purpose Cleaner        828ml   \n",
       "2            2     2.089620e+12                  Agua Mineral        5.0 L   \n",
       "3            3     4.082243e+07         Bonaqua Mineral Water       500 ml   \n",
       "4            4     4.238066e+07                  Fanta Litchi       280 ml   \n",
       "...        ...              ...                           ...          ...   \n",
       "17770  1066208     9.556140e+12                Drinking Water        1.5 L   \n",
       "17771  1066209     9.556400e+12              Lemon Lime Drink       515 ml   \n",
       "17772  1066210     9.716190e+12               Agua Purificada        1.5 L   \n",
       "17773  1066211     9.716190e+12               Agua Purificada        5.0 L   \n",
       "17774  1066212     9.716190e+12               Agua Purificada        500ml   \n",
       "\n",
       "             brand_name manufacturer_country  \\\n",
       "0                 Vimto                   GB   \n",
       "1                Method                   US   \n",
       "2      Água de Namaacha                   MZ   \n",
       "3               Bonaqua                   US   \n",
       "4                 Fanta                   US   \n",
       "...                 ...                  ...   \n",
       "17770            Summer                   UK   \n",
       "17771          Gatorade                   US   \n",
       "17772            Nevada                   MZ   \n",
       "17773            Nevada                   MZ   \n",
       "17774            Nevada                   MZ   \n",
       "\n",
       "                      manufacturer_name scan_country  bottle_count    Date  \n",
       "0                           Nichols plc           MZ           1.0  Mar-21  \n",
       "1                   Method Products pbc           GB           1.0  Mar-21  \n",
       "2      Sociedade de Águas de Moçambique           MZ           1.0  Mar-21  \n",
       "3                             Coca-Cola           MZ           9.0  Mar-21  \n",
       "4                             Coca-Cola           MZ           6.0  Mar-21  \n",
       "...                                 ...          ...           ...     ...  \n",
       "17770                       UNKNOWN_ORG           MZ           1.0  Aug-22  \n",
       "17771                      Pepsico, Inc           MZ           1.0  Aug-22  \n",
       "17772   Nevada General Supplies Co, Lda           MZ          48.0  Aug-22  \n",
       "17773   Nevada General Supplies Co, Lda           MZ          83.0  Aug-22  \n",
       "17774   Nevada General Supplies Co, Lda           MZ         229.0  Aug-22  \n",
       "\n",
       "[17775 rows x 10 columns]"
      ]
     },
     "execution_count": 190,
     "metadata": {},
     "output_type": "execute_result"
    }
   ],
   "source": [
    "df.reset_index()"
   ]
  },
  {
   "cell_type": "code",
   "execution_count": 191,
   "metadata": {},
   "outputs": [
    {
     "data": {
      "text/plain": [
       "product_barcode          0\n",
       "product_label            0\n",
       "product_size             0\n",
       "brand_name               0\n",
       "manufacturer_country    15\n",
       "manufacturer_name        0\n",
       "scan_country             0\n",
       "bottle_count             0\n",
       "Date                     0\n",
       "dtype: int64"
      ]
     },
     "execution_count": 191,
     "metadata": {},
     "output_type": "execute_result"
    }
   ],
   "source": [
    "# Get the columnn with null values\n",
    "df.isna().sum()"
   ]
  },
  {
   "cell_type": "code",
   "execution_count": 192,
   "metadata": {},
   "outputs": [
    {
     "data": {
      "text/plain": [
       "US    4149\n",
       "UK    2354\n",
       "TZ    1954\n",
       "MZ    1870\n",
       "KE    1534\n",
       "GB    1498\n",
       "ZA    1015\n",
       "ZM     743\n",
       "FR     385\n",
       "PT     296\n",
       "JP     237\n",
       "RW     219\n",
       "NL     197\n",
       "MW     173\n",
       "ES     147\n",
       "DE     115\n",
       "BE     104\n",
       "CH      95\n",
       "CA      78\n",
       "SG      73\n",
       "TR      66\n",
       "LT      59\n",
       "IN      50\n",
       "UG      37\n",
       "CI      35\n",
       "AT      33\n",
       "AE      28\n",
       "CN      25\n",
       "ZW      25\n",
       "UA      23\n",
       "MY      22\n",
       "AO      21\n",
       "TH      17\n",
       "AR      17\n",
       "GH      16\n",
       "EG      12\n",
       "MT      11\n",
       "DK      10\n",
       "BM       6\n",
       "BR       5\n",
       "KM       3\n",
       "SL       3\n",
       "Name: manufacturer_country, dtype: int64"
      ]
     },
     "execution_count": 192,
     "metadata": {},
     "output_type": "execute_result"
    }
   ],
   "source": [
    "# Know which country has the most value counts in he dataset\n",
    "df['manufacturer_country'].value_counts()"
   ]
  },
  {
   "cell_type": "code",
   "execution_count": 193,
   "metadata": {},
   "outputs": [],
   "source": [
    "# Fill the null values with this country (like filling with mean)\n",
    "df = df.fillna('US')"
   ]
  },
  {
   "cell_type": "code",
   "execution_count": 194,
   "metadata": {},
   "outputs": [
    {
     "data": {
      "text/plain": [
       "product_barcode         0\n",
       "product_label           0\n",
       "product_size            0\n",
       "brand_name              0\n",
       "manufacturer_country    0\n",
       "manufacturer_name       0\n",
       "scan_country            0\n",
       "bottle_count            0\n",
       "Date                    0\n",
       "dtype: int64"
      ]
     },
     "execution_count": 194,
     "metadata": {},
     "output_type": "execute_result"
    }
   ],
   "source": [
    "#Checking if there's any null values\n",
    "df.isna().sum()"
   ]
  },
  {
   "cell_type": "code",
   "execution_count": 195,
   "metadata": {},
   "outputs": [
    {
     "data": {
      "text/plain": [
       "16"
      ]
     },
     "execution_count": 195,
     "metadata": {},
     "output_type": "execute_result"
    }
   ],
   "source": [
    "#Check for the duplicated records\n",
    "df.duplicated().sum()"
   ]
  },
  {
   "cell_type": "code",
   "execution_count": 196,
   "metadata": {},
   "outputs": [],
   "source": [
    "# Drop these records\n",
    "df.drop_duplicates(inplace=True)"
   ]
  },
  {
   "cell_type": "code",
   "execution_count": 197,
   "metadata": {},
   "outputs": [
    {
     "data": {
      "text/plain": [
       "0"
      ]
     },
     "execution_count": 197,
     "metadata": {},
     "output_type": "execute_result"
    }
   ],
   "source": [
    "df.duplicated().sum()"
   ]
  },
  {
   "cell_type": "code",
   "execution_count": 198,
   "metadata": {},
   "outputs": [],
   "source": [
    "df = df.reset_index()"
   ]
  },
  {
   "attachments": {},
   "cell_type": "markdown",
   "metadata": {},
   "source": [
    "# EDA"
   ]
  },
  {
   "cell_type": "code",
   "execution_count": 199,
   "metadata": {},
   "outputs": [],
   "source": [
    "import numpy as np\n",
    "import pandas as pd\n",
    "import matplotlib.pyplot as plt\n",
    "import seaborn as sb\n",
    "from matplotlib import rcParams\n",
    "%matplotlib inline"
   ]
  },
  {
   "cell_type": "code",
   "execution_count": 200,
   "metadata": {},
   "outputs": [
    {
     "data": {
      "image/png": "[encoded data removed]",
      "text/plain": [
       "<Figure size 432x288 with 1 Axes>"
      ]
     },
     "metadata": {
      "needs_background": "light"
     },
     "output_type": "display_data"
    }
   ],
   "source": [
    "# Return the Series having unique values\n",
    "x = df['Date'].value_counts(sort=False).index\n",
    "\n",
    "# Return the Series having frequency count of each unique value\n",
    "y = df['Date'].value_counts(sort=False)\n",
    "\n",
    "plt.bar(x, y)\n",
    "\n",
    "# Labeling the axes\n",
    "plt.xlabel('Date')\n",
    "plt.ylabel('count')\n",
    "sb.countplot(data=df, x='Date');\n",
    "# Dsiplay the plot\n",
    "plt.xticks(rotation=90);\n",
    "plt.show()"
   ]
  },
  {
   "cell_type": "code",
   "execution_count": 201,
   "metadata": {},
   "outputs": [
    {
     "data": {
      "image/png": "[encoded data removed]",
      "text/plain": [
       "<Figure size 432x288 with 1 Axes>"
      ]
     },
     "metadata": {
      "needs_background": "light"
     },
     "output_type": "display_data"
    }
   ],
   "source": [
    "# Return the Series having unique values\n",
    "x = df['scan_country'].value_counts(sort=False).index\n",
    "\n",
    "# Return the Series having frequency count of each unique value\n",
    "y = df['scan_country'].value_counts(sort=False)\n",
    "\n",
    "plt.bar(x, y)\n",
    "\n",
    "# Labeling the axes\n",
    "plt.xlabel('scan_country')\n",
    "plt.ylabel('count')\n",
    "sb.countplot(data=df, x='scan_country');\n",
    "# Dsiplay the plot\n",
    "plt.show()"
   ]
  },
  {
   "cell_type": "code",
   "execution_count": 202,
   "metadata": {},
   "outputs": [
    {
     "data": {
      "text/plain": [
       "MZ    5244\n",
       "TZ    3051\n",
       "KE    2937\n",
       "GB    2662\n",
       "RW    1045\n",
       "ZM     970\n",
       "CA     478\n",
       "MW     477\n",
       "ZA     433\n",
       "ES     235\n",
       "UG     147\n",
       "AO      33\n",
       "CH      15\n",
       "FR      11\n",
       "NL       8\n",
       "BR       6\n",
       "QA       3\n",
       "SL       3\n",
       "BE       1\n",
       "Name: scan_country, dtype: int64"
      ]
     },
     "execution_count": 202,
     "metadata": {},
     "output_type": "execute_result"
    }
   ],
   "source": [
    "df['scan_country'].value_counts()"
   ]
  },
  {
   "cell_type": "code",
   "execution_count": 203,
   "metadata": {},
   "outputs": [
    {
     "data": {
      "text/plain": [
       "Coca-Cola                      742\n",
       "Fanta                          644\n",
       "Azam                           390\n",
       "Sprite                         304\n",
       "Frozy                          303\n",
       "                              ... \n",
       "Nestea                           1\n",
       "Mug Root Beer                    1\n",
       "SunnyD                           1\n",
       "Óleo de girassol refinado        1\n",
       "Zim-Kings Trading (pvt) Ltd      1\n",
       "Name: brand_name, Length: 546, dtype: int64"
      ]
     },
     "execution_count": 203,
     "metadata": {},
     "output_type": "execute_result"
    }
   ],
   "source": [
    "df['brand_name'].value_counts()"
   ]
  },
  {
   "cell_type": "code",
   "execution_count": 204,
   "metadata": {},
   "outputs": [],
   "source": [
    "Coca_Cola = df.loc[df['brand_name'] == 'Coca-Cola']\n",
    "Fanta = df.loc[df['brand_name'] == 'Fanta']\n",
    "Azam = df.loc[df['brand_name'] == 'Azam']\n",
    "Sprite = df.loc[df['brand_name'] == 'Sprite']\n",
    "Pepsi = df.loc[df['brand_name'] == 'Pepsi']"
   ]
  },
  {
   "cell_type": "code",
   "execution_count": 205,
   "metadata": {},
   "outputs": [
    {
     "data": {
      "text/html": [
       "<div>\n",
       "<style scoped>\n",
       "    .dataframe tbody tr th:only-of-type {\n",
       "        vertical-align: middle;\n",
       "    }\n",
       "\n",
       "    .dataframe tbody tr th {\n",
       "        vertical-align: top;\n",
       "    }\n",
       "\n",
       "    .dataframe thead th {\n",
       "        text-align: right;\n",
       "    }\n",
       "</style>\n",
       "<table border=\"1\" class=\"dataframe\">\n",
       "  <thead>\n",
       "    <tr style=\"text-align: right;\">\n",
       "      <th></th>\n",
       "      <th>index</th>\n",
       "      <th>product_barcode</th>\n",
       "      <th>product_label</th>\n",
       "      <th>product_size</th>\n",
       "      <th>brand_name</th>\n",
       "      <th>manufacturer_country</th>\n",
       "      <th>manufacturer_name</th>\n",
       "      <th>scan_country</th>\n",
       "      <th>bottle_count</th>\n",
       "      <th>Date</th>\n",
       "    </tr>\n",
       "  </thead>\n",
       "  <tbody>\n",
       "    <tr>\n",
       "      <th>6</th>\n",
       "      <td>6</td>\n",
       "      <td>4.238110e+07</td>\n",
       "      <td>Coke Zero</td>\n",
       "      <td>280 ml</td>\n",
       "      <td>Coca-Cola</td>\n",
       "      <td>US</td>\n",
       "      <td>Coca-Cola</td>\n",
       "      <td>MZ</td>\n",
       "      <td>17.0</td>\n",
       "      <td>Mar-21</td>\n",
       "    </tr>\n",
       "    <tr>\n",
       "      <th>14</th>\n",
       "      <td>14</td>\n",
       "      <td>5.449000e+12</td>\n",
       "      <td>Coca-Cola</td>\n",
       "      <td>2.0 L</td>\n",
       "      <td>Coca-Cola</td>\n",
       "      <td>US</td>\n",
       "      <td>Coca-Cola</td>\n",
       "      <td>MZ</td>\n",
       "      <td>20.0</td>\n",
       "      <td>Mar-21</td>\n",
       "    </tr>\n",
       "    <tr>\n",
       "      <th>20</th>\n",
       "      <td>20</td>\n",
       "      <td>5.449000e+12</td>\n",
       "      <td>Coca Cola</td>\n",
       "      <td>1.0 L</td>\n",
       "      <td>Coca-Cola</td>\n",
       "      <td>US</td>\n",
       "      <td>Coca-Cola</td>\n",
       "      <td>MZ</td>\n",
       "      <td>29.0</td>\n",
       "      <td>Mar-21</td>\n",
       "    </tr>\n",
       "    <tr>\n",
       "      <th>24</th>\n",
       "      <td>24</td>\n",
       "      <td>5.449000e+12</td>\n",
       "      <td>Coke Zero</td>\n",
       "      <td>1.0 L</td>\n",
       "      <td>Coca-Cola</td>\n",
       "      <td>US</td>\n",
       "      <td>Coca-Cola</td>\n",
       "      <td>MZ</td>\n",
       "      <td>5.0</td>\n",
       "      <td>Mar-21</td>\n",
       "    </tr>\n",
       "    <tr>\n",
       "      <th>29</th>\n",
       "      <td>29</td>\n",
       "      <td>5.449150e+07</td>\n",
       "      <td>Diet Coke</td>\n",
       "      <td>500 ml</td>\n",
       "      <td>Coca-Cola</td>\n",
       "      <td>US</td>\n",
       "      <td>Coca-Cola</td>\n",
       "      <td>MZ</td>\n",
       "      <td>1.0</td>\n",
       "      <td>Mar-21</td>\n",
       "    </tr>\n",
       "    <tr>\n",
       "      <th>...</th>\n",
       "      <td>...</td>\n",
       "      <td>...</td>\n",
       "      <td>...</td>\n",
       "      <td>...</td>\n",
       "      <td>...</td>\n",
       "      <td>...</td>\n",
       "      <td>...</td>\n",
       "      <td>...</td>\n",
       "      <td>...</td>\n",
       "      <td>...</td>\n",
       "    </tr>\n",
       "    <tr>\n",
       "      <th>17716</th>\n",
       "      <td>1066170</td>\n",
       "      <td>9.033805e+07</td>\n",
       "      <td>Coca-Cola</td>\n",
       "      <td>280ml</td>\n",
       "      <td>Coca-Cola</td>\n",
       "      <td>US</td>\n",
       "      <td>Coca-Cola</td>\n",
       "      <td>TZ</td>\n",
       "      <td>265.0</td>\n",
       "      <td>Aug-22</td>\n",
       "    </tr>\n",
       "    <tr>\n",
       "      <th>17717</th>\n",
       "      <td>1066171</td>\n",
       "      <td>9.035763e+07</td>\n",
       "      <td>Diet Carbonated drink</td>\n",
       "      <td>350 ml</td>\n",
       "      <td>Coca-Cola</td>\n",
       "      <td>US</td>\n",
       "      <td>Coca-Cola</td>\n",
       "      <td>UG</td>\n",
       "      <td>2.0</td>\n",
       "      <td>Aug-22</td>\n",
       "    </tr>\n",
       "    <tr>\n",
       "      <th>17720</th>\n",
       "      <td>1066174</td>\n",
       "      <td>9.037515e+07</td>\n",
       "      <td>Coke Zero</td>\n",
       "      <td>280 ml</td>\n",
       "      <td>Coca-Cola</td>\n",
       "      <td>US</td>\n",
       "      <td>Coca-Cola</td>\n",
       "      <td>ZA</td>\n",
       "      <td>1.0</td>\n",
       "      <td>Aug-22</td>\n",
       "    </tr>\n",
       "    <tr>\n",
       "      <th>17721</th>\n",
       "      <td>1066175</td>\n",
       "      <td>9.037529e+07</td>\n",
       "      <td>Coca-Cola</td>\n",
       "      <td>280 ml</td>\n",
       "      <td>Coca-Cola</td>\n",
       "      <td>US</td>\n",
       "      <td>Coca-Cola</td>\n",
       "      <td>MZ</td>\n",
       "      <td>735.0</td>\n",
       "      <td>Aug-22</td>\n",
       "    </tr>\n",
       "    <tr>\n",
       "      <th>17722</th>\n",
       "      <td>1066176</td>\n",
       "      <td>9.037529e+07</td>\n",
       "      <td>Coca-Cola</td>\n",
       "      <td>280 ml</td>\n",
       "      <td>Coca-Cola</td>\n",
       "      <td>US</td>\n",
       "      <td>Coca-Cola</td>\n",
       "      <td>RW</td>\n",
       "      <td>1.0</td>\n",
       "      <td>Aug-22</td>\n",
       "    </tr>\n",
       "  </tbody>\n",
       "</table>\n",
       "<p>742 rows × 10 columns</p>\n",
       "</div>"
      ],
      "text/plain": [
       "         index  product_barcode          product_label product_size  \\\n",
       "6            6     4.238110e+07              Coke Zero       280 ml   \n",
       "14          14     5.449000e+12              Coca-Cola        2.0 L   \n",
       "20          20     5.449000e+12              Coca Cola        1.0 L   \n",
       "24          24     5.449000e+12              Coke Zero        1.0 L   \n",
       "29          29     5.449150e+07              Diet Coke       500 ml   \n",
       "...        ...              ...                    ...          ...   \n",
       "17716  1066170     9.033805e+07              Coca-Cola        280ml   \n",
       "17717  1066171     9.035763e+07  Diet Carbonated drink       350 ml   \n",
       "17720  1066174     9.037515e+07              Coke Zero       280 ml   \n",
       "17721  1066175     9.037529e+07              Coca-Cola       280 ml   \n",
       "17722  1066176     9.037529e+07              Coca-Cola       280 ml   \n",
       "\n",
       "      brand_name manufacturer_country manufacturer_name scan_country  \\\n",
       "6      Coca-Cola                   US         Coca-Cola           MZ   \n",
       "14     Coca-Cola                   US         Coca-Cola           MZ   \n",
       "20     Coca-Cola                   US         Coca-Cola           MZ   \n",
       "24     Coca-Cola                   US         Coca-Cola           MZ   \n",
       "29     Coca-Cola                   US         Coca-Cola           MZ   \n",
       "...          ...                  ...               ...          ...   \n",
       "17716  Coca-Cola                   US         Coca-Cola           TZ   \n",
       "17717  Coca-Cola                   US         Coca-Cola           UG   \n",
       "17720  Coca-Cola                   US         Coca-Cola           ZA   \n",
       "17721  Coca-Cola                   US         Coca-Cola           MZ   \n",
       "17722  Coca-Cola                   US         Coca-Cola           RW   \n",
       "\n",
       "       bottle_count    Date  \n",
       "6              17.0  Mar-21  \n",
       "14             20.0  Mar-21  \n",
       "20             29.0  Mar-21  \n",
       "24              5.0  Mar-21  \n",
       "29              1.0  Mar-21  \n",
       "...             ...     ...  \n",
       "17716         265.0  Aug-22  \n",
       "17717           2.0  Aug-22  \n",
       "17720           1.0  Aug-22  \n",
       "17721         735.0  Aug-22  \n",
       "17722           1.0  Aug-22  \n",
       "\n",
       "[742 rows x 10 columns]"
      ]
     },
     "execution_count": 205,
     "metadata": {},
     "output_type": "execute_result"
    }
   ],
   "source": [
    "Coca_Cola"
   ]
  },
  {
   "cell_type": "code",
   "execution_count": 206,
   "metadata": {},
   "outputs": [
    {
     "data": {
      "text/plain": [
       "Coca-Cola                                         218\n",
       "Diet Coke                                         175\n",
       "Coke                                              115\n",
       "Coke Zero                                          94\n",
       "Coca Cola                                          52\n",
       "Carbonated soft drink stoney Tangawizi/ ginger     17\n",
       "Coca Cola Cans 330ml Pk24 A00768                   16\n",
       "Coca cola                                          10\n",
       "Coca-cola Zero Sugar                                8\n",
       "Original Taste                                      8\n",
       "Coca-Cola Zero Sugar                                7\n",
       "Original                                            5\n",
       "Coca-Cola Carbonated Soft Drink                     4\n",
       "Diet Carbonated drink                               4\n",
       "Oasis Citrus Punch                                  3\n",
       "PowerAde Grape                                      3\n",
       "Coke Light                                          3\n",
       "Name: product_label, dtype: int64"
      ]
     },
     "execution_count": 206,
     "metadata": {},
     "output_type": "execute_result"
    }
   ],
   "source": [
    "Coca_Cola['product_label'].value_counts()"
   ]
  },
  {
   "cell_type": "code",
   "execution_count": 207,
   "metadata": {},
   "outputs": [
    {
     "data": {
      "image/png": "[encoded data removed]",
      "text/plain": [
       "<Figure size 1296x360 with 1 Axes>"
      ]
     },
     "metadata": {
      "needs_background": "light"
     },
     "output_type": "display_data"
    }
   ],
   "source": [
    "# Return the Series having unique values\n",
    "x = Fanta['Date'].value_counts(sort=False).index\n",
    "\n",
    "# Return the Series having frequency count of each unique value\n",
    "y = Fanta['Date'].value_counts(sort=False)\n",
    "plt.subplots(figsize=(18,5))\n",
    "plt.bar(x, y)\n",
    "\n",
    "# Labeling the axes\n",
    "#plt.figure(figsize=[300,300])\n",
    "plt.xlabel('Date')\n",
    "plt.ylabel('count')\n",
    "sb.countplot(data=Fanta, x='Date');\n",
    "\n",
    "# Dsiplay the plot\n",
    "plt.xticks(rotation=90);\n",
    "plt.show()"
   ]
  },
  {
   "cell_type": "code",
   "execution_count": 208,
   "metadata": {},
   "outputs": [
    {
     "data": {
      "image/png": "[encoded data removed]",
      "text/plain": [
       "<Figure size 1296x360 with 1 Axes>"
      ]
     },
     "metadata": {
      "needs_background": "light"
     },
     "output_type": "display_data"
    }
   ],
   "source": [
    "# Return the Series having unique values\n",
    "x = Coca_Cola['Date'].value_counts(sort=False).index\n",
    "\n",
    "# Return the Series having frequency count of each unique value\n",
    "y = Coca_Cola['Date'].value_counts(sort=False)\n",
    "plt.subplots(figsize=(18,5))\n",
    "plt.bar(x, y)\n",
    "\n",
    "# Labeling the axes\n",
    "#plt.figure(figsize=[300,300])\n",
    "plt.xlabel('Date')\n",
    "plt.ylabel('count')\n",
    "sb.countplot(data=Coca_Cola, x='Date');\n",
    "\n",
    "# Dsiplay the plot\n",
    "plt.xticks(rotation=90);\n",
    "plt.show()"
   ]
  },
  {
   "cell_type": "code",
   "execution_count": 209,
   "metadata": {},
   "outputs": [
    {
     "data": {
      "image/png": "[encoded data removed]",
      "text/plain": [
       "<Figure size 1296x360 with 1 Axes>"
      ]
     },
     "metadata": {
      "needs_background": "light"
     },
     "output_type": "display_data"
    }
   ],
   "source": [
    "# Return the Series having unique values\n",
    "x = Coca_Cola['product_label'].value_counts(sort=False).index\n",
    "\n",
    "# Return the Series having frequency count of each unique value\n",
    "y = Coca_Cola['product_label'].value_counts(sort=False)\n",
    "plt.subplots(figsize=(18,5))\n",
    "plt.bar(x, y)\n",
    "\n",
    "# Labeling the axes\n",
    "#plt.figure(figsize=[300,300])\n",
    "plt.xlabel('product_label')\n",
    "plt.ylabel('count')\n",
    "sb.countplot(data=Coca_Cola, x='product_label');\n",
    "\n",
    "# Dsiplay the plot\n",
    "plt.xticks(rotation=90);\n",
    "plt.show()"
   ]
  },
  {
   "cell_type": "code",
   "execution_count": 210,
   "metadata": {},
   "outputs": [
    {
     "data": {
      "image/png": "[encoded data removed]",
      "text/plain": [
       "<Figure size 1296x360 with 1 Axes>"
      ]
     },
     "metadata": {
      "needs_background": "light"
     },
     "output_type": "display_data"
    }
   ],
   "source": [
    "# Return the Series having unique values\n",
    "x = Fanta['product_label'].value_counts(sort=False).index\n",
    "\n",
    "# Return the Series having frequency count of each unique value\n",
    "y = Fanta['product_label'].value_counts(sort=False)\n",
    "plt.subplots(figsize=(18,5))\n",
    "plt.bar(x, y)\n",
    "\n",
    "# Labeling the axes\n",
    "#plt.figure(figsize=[300,300])\n",
    "plt.xlabel('product_label')\n",
    "plt.ylabel('count')\n",
    "sb.countplot(data=Fanta, x='product_label');\n",
    "\n",
    "# Dsiplay the plot\n",
    "plt.xticks(rotation=90);\n",
    "plt.show()"
   ]
  },
  {
   "attachments": {},
   "cell_type": "markdown",
   "metadata": {},
   "source": [
    "Check for Seasonality"
   ]
  },
  {
   "cell_type": "code",
   "execution_count": 230,
   "metadata": {},
   "outputs": [
    {
     "data": {
      "text/html": [
       "<div>\n",
       "<style scoped>\n",
       "    .dataframe tbody tr th:only-of-type {\n",
       "        vertical-align: middle;\n",
       "    }\n",
       "\n",
       "    .dataframe tbody tr th {\n",
       "        vertical-align: top;\n",
       "    }\n",
       "\n",
       "    .dataframe thead th {\n",
       "        text-align: right;\n",
       "    }\n",
       "</style>\n",
       "<table border=\"1\" class=\"dataframe\">\n",
       "  <thead>\n",
       "    <tr style=\"text-align: right;\">\n",
       "      <th></th>\n",
       "      <th>bottle_count</th>\n",
       "    </tr>\n",
       "    <tr>\n",
       "      <th>Date</th>\n",
       "      <th></th>\n",
       "    </tr>\n",
       "  </thead>\n",
       "  <tbody>\n",
       "    <tr>\n",
       "      <th>Mar-21</th>\n",
       "      <td>1.0</td>\n",
       "    </tr>\n",
       "    <tr>\n",
       "      <th>Mar-21</th>\n",
       "      <td>1.0</td>\n",
       "    </tr>\n",
       "    <tr>\n",
       "      <th>Mar-21</th>\n",
       "      <td>1.0</td>\n",
       "    </tr>\n",
       "    <tr>\n",
       "      <th>Mar-21</th>\n",
       "      <td>9.0</td>\n",
       "    </tr>\n",
       "    <tr>\n",
       "      <th>Mar-21</th>\n",
       "      <td>6.0</td>\n",
       "    </tr>\n",
       "    <tr>\n",
       "      <th>...</th>\n",
       "      <td>...</td>\n",
       "    </tr>\n",
       "    <tr>\n",
       "      <th>Aug-22</th>\n",
       "      <td>1.0</td>\n",
       "    </tr>\n",
       "    <tr>\n",
       "      <th>Aug-22</th>\n",
       "      <td>1.0</td>\n",
       "    </tr>\n",
       "    <tr>\n",
       "      <th>Aug-22</th>\n",
       "      <td>48.0</td>\n",
       "    </tr>\n",
       "    <tr>\n",
       "      <th>Aug-22</th>\n",
       "      <td>83.0</td>\n",
       "    </tr>\n",
       "    <tr>\n",
       "      <th>Aug-22</th>\n",
       "      <td>229.0</td>\n",
       "    </tr>\n",
       "  </tbody>\n",
       "</table>\n",
       "<p>17759 rows × 1 columns</p>\n",
       "</div>"
      ],
      "text/plain": [
       "        bottle_count\n",
       "Date                \n",
       "Mar-21           1.0\n",
       "Mar-21           1.0\n",
       "Mar-21           1.0\n",
       "Mar-21           9.0\n",
       "Mar-21           6.0\n",
       "...              ...\n",
       "Aug-22           1.0\n",
       "Aug-22           1.0\n",
       "Aug-22          48.0\n",
       "Aug-22          83.0\n",
       "Aug-22         229.0\n",
       "\n",
       "[17759 rows x 1 columns]"
      ]
     },
     "execution_count": 230,
     "metadata": {},
     "output_type": "execute_result"
    }
   ],
   "source": [
    "data2=df\n",
    "data2 = data2.set_index(['Date'])\n",
    "data2=pd.DataFrame(data2['bottle_count'])\n",
    "data2"
   ]
  },
  {
   "cell_type": "code",
   "execution_count": 231,
   "metadata": {},
   "outputs": [
    {
     "data": {
      "image/png": "[encoded data removed]",
      "text/plain": [
       "<Figure size 1920x720 with 1 Axes>"
      ]
     },
     "metadata": {
      "needs_background": "light"
     },
     "output_type": "display_data"
    }
   ],
   "source": [
    "cols_plot = ['bottle_count']\n",
    "\n",
    "axes      = data2[cols_plot].plot(marker='.',\n",
    "                                       alpha=0.4, \n",
    "                                       linestyle='None', \n",
    "                                       figsize=(16, 6), \n",
    "                                       subplots=True)\n",
    "\n",
    "for ax in axes:\n",
    "    ax.set_ylabel('Monthly Bottle Counts')"
   ]
  },
  {
   "cell_type": "code",
   "execution_count": 211,
   "metadata": {},
   "outputs": [],
   "source": [
    "# Import to the Dataset file\n",
    "df.to_csv('Dataset.csv', mode='a', index=False, header=True)"
   ]
  },
  {
   "attachments": {},
   "cell_type": "markdown",
   "metadata": {},
   "source": [
    "# Modeling"
   ]
  },
  {
   "attachments": {},
   "cell_type": "markdown",
   "metadata": {},
   "source": [
    "### Import September Data"
   ]
  },
  {
   "cell_type": "code",
   "execution_count": 212,
   "metadata": {},
   "outputs": [
    {
     "data": {
      "text/html": [
       "<div>\n",
       "<style scoped>\n",
       "    .dataframe tbody tr th:only-of-type {\n",
       "        vertical-align: middle;\n",
       "    }\n",
       "\n",
       "    .dataframe tbody tr th {\n",
       "        vertical-align: top;\n",
       "    }\n",
       "\n",
       "    .dataframe thead th {\n",
       "        text-align: right;\n",
       "    }\n",
       "</style>\n",
       "<table border=\"1\" class=\"dataframe\">\n",
       "  <thead>\n",
       "    <tr style=\"text-align: right;\">\n",
       "      <th></th>\n",
       "      <th>product_barcode</th>\n",
       "      <th>product_label</th>\n",
       "      <th>product_size</th>\n",
       "      <th>brand_name</th>\n",
       "      <th>manufacturer_country</th>\n",
       "      <th>manufacturer_name</th>\n",
       "      <th>scan_country</th>\n",
       "      <th>data_url</th>\n",
       "      <th>bottle_weight</th>\n",
       "      <th>bottle_count</th>\n",
       "      <th>Date</th>\n",
       "    </tr>\n",
       "  </thead>\n",
       "  <tbody>\n",
       "    <tr>\n",
       "      <th>0</th>\n",
       "      <td>0.000000e+00</td>\n",
       "      <td>Purified drinking water</td>\n",
       "      <td>500ml</td>\n",
       "      <td>Rehaan ice</td>\n",
       "      <td>KE</td>\n",
       "      <td>Al Hatim Traders</td>\n",
       "      <td>KE</td>\n",
       "      <td>https://wastebase.org/#/o/f434a282-c578-461d-b...</td>\n",
       "      <td>NaN</td>\n",
       "      <td>11</td>\n",
       "      <td>Sep-22</td>\n",
       "    </tr>\n",
       "    <tr>\n",
       "      <th>1</th>\n",
       "      <td>8.600000e+01</td>\n",
       "      <td>Original</td>\n",
       "      <td>500ml</td>\n",
       "      <td>Coca-Cola</td>\n",
       "      <td>US</td>\n",
       "      <td>Coca-Cola</td>\n",
       "      <td>CA</td>\n",
       "      <td>https://wastebase.org/#/o/c3710738-2999-4396-a...</td>\n",
       "      <td>NaN</td>\n",
       "      <td>1</td>\n",
       "      <td>Sep-22</td>\n",
       "    </tr>\n",
       "    <tr>\n",
       "      <th>2</th>\n",
       "      <td>1.234003e+09</td>\n",
       "      <td>Alcoholic Kombucha Drink</td>\n",
       "      <td>200 ml</td>\n",
       "      <td>Kabisa</td>\n",
       "      <td>UG</td>\n",
       "      <td>Oyoma General stores LTD</td>\n",
       "      <td>UG</td>\n",
       "      <td>https://wastebase.org/#/o/75ad3034-3ad3-4b2e-a...</td>\n",
       "      <td>NaN</td>\n",
       "      <td>1</td>\n",
       "      <td>Sep-22</td>\n",
       "    </tr>\n",
       "    <tr>\n",
       "      <th>3</th>\n",
       "      <td>1.660000e+10</td>\n",
       "      <td>Schweppes Gingerale</td>\n",
       "      <td>710ml</td>\n",
       "      <td>Schweppes</td>\n",
       "      <td>US</td>\n",
       "      <td>Coca-Cola</td>\n",
       "      <td>CA</td>\n",
       "      <td>https://wastebase.org/#/o/c3710738-2999-4396-a...</td>\n",
       "      <td>NaN</td>\n",
       "      <td>1</td>\n",
       "      <td>Sep-22</td>\n",
       "    </tr>\n",
       "    <tr>\n",
       "      <th>4</th>\n",
       "      <td>1.660001e+10</td>\n",
       "      <td>Schweppes Gingerale</td>\n",
       "      <td>591 ml</td>\n",
       "      <td>Schweppes</td>\n",
       "      <td>US</td>\n",
       "      <td>Coca-Cola</td>\n",
       "      <td>CA</td>\n",
       "      <td>https://wastebase.org/#/o/c3710738-2999-4396-a...</td>\n",
       "      <td>NaN</td>\n",
       "      <td>2</td>\n",
       "      <td>Sep-22</td>\n",
       "    </tr>\n",
       "    <tr>\n",
       "      <th>...</th>\n",
       "      <td>...</td>\n",
       "      <td>...</td>\n",
       "      <td>...</td>\n",
       "      <td>...</td>\n",
       "      <td>...</td>\n",
       "      <td>...</td>\n",
       "      <td>...</td>\n",
       "      <td>...</td>\n",
       "      <td>...</td>\n",
       "      <td>...</td>\n",
       "      <td>...</td>\n",
       "    </tr>\n",
       "    <tr>\n",
       "      <th>1938</th>\n",
       "      <td>9.556140e+12</td>\n",
       "      <td>Drinking Water</td>\n",
       "      <td>1.5 L</td>\n",
       "      <td>Summer</td>\n",
       "      <td>UK</td>\n",
       "      <td>UNKNOWN_ORG</td>\n",
       "      <td>MZ</td>\n",
       "      <td>https://wastebase.org/#/o/00000000-0000-0000-0...</td>\n",
       "      <td>NaN</td>\n",
       "      <td>1</td>\n",
       "      <td>Sep-22</td>\n",
       "    </tr>\n",
       "    <tr>\n",
       "      <th>1939</th>\n",
       "      <td>9.556400e+12</td>\n",
       "      <td>Lemon Lime Drink</td>\n",
       "      <td>515 ml</td>\n",
       "      <td>Gatorade</td>\n",
       "      <td>US</td>\n",
       "      <td>Pepsico, Inc</td>\n",
       "      <td>MZ</td>\n",
       "      <td>https://wastebase.org/#/o/fa6fbb15-8b61-4e1d-8...</td>\n",
       "      <td>NaN</td>\n",
       "      <td>1</td>\n",
       "      <td>Sep-22</td>\n",
       "    </tr>\n",
       "    <tr>\n",
       "      <th>1940</th>\n",
       "      <td>9.716190e+12</td>\n",
       "      <td>Agua Purificada</td>\n",
       "      <td>1.5 L</td>\n",
       "      <td>Nevada</td>\n",
       "      <td>MZ</td>\n",
       "      <td>Nevada General Supplies Co, Lda</td>\n",
       "      <td>MZ</td>\n",
       "      <td>https://wastebase.org/#/o/dd241782-fd94-4a13-9...</td>\n",
       "      <td>NaN</td>\n",
       "      <td>48</td>\n",
       "      <td>Sep-22</td>\n",
       "    </tr>\n",
       "    <tr>\n",
       "      <th>1941</th>\n",
       "      <td>9.716190e+12</td>\n",
       "      <td>Agua Purificada</td>\n",
       "      <td>5.0 L</td>\n",
       "      <td>Nevada</td>\n",
       "      <td>MZ</td>\n",
       "      <td>Nevada General Supplies Co, Lda</td>\n",
       "      <td>MZ</td>\n",
       "      <td>https://wastebase.org/#/o/dd241782-fd94-4a13-9...</td>\n",
       "      <td>NaN</td>\n",
       "      <td>83</td>\n",
       "      <td>Sep-22</td>\n",
       "    </tr>\n",
       "    <tr>\n",
       "      <th>1942</th>\n",
       "      <td>9.716190e+12</td>\n",
       "      <td>Agua Purificada</td>\n",
       "      <td>500ml</td>\n",
       "      <td>Nevada</td>\n",
       "      <td>MZ</td>\n",
       "      <td>Nevada General Supplies Co, Lda</td>\n",
       "      <td>MZ</td>\n",
       "      <td>https://wastebase.org/#/o/dd241782-fd94-4a13-9...</td>\n",
       "      <td>NaN</td>\n",
       "      <td>229</td>\n",
       "      <td>Sep-22</td>\n",
       "    </tr>\n",
       "  </tbody>\n",
       "</table>\n",
       "<p>1943 rows × 11 columns</p>\n",
       "</div>"
      ],
      "text/plain": [
       "      product_barcode             product_label product_size  brand_name  \\\n",
       "0        0.000000e+00   Purified drinking water        500ml  Rehaan ice   \n",
       "1        8.600000e+01                  Original        500ml   Coca-Cola   \n",
       "2        1.234003e+09  Alcoholic Kombucha Drink       200 ml      Kabisa   \n",
       "3        1.660000e+10       Schweppes Gingerale        710ml   Schweppes   \n",
       "4        1.660001e+10       Schweppes Gingerale       591 ml   Schweppes   \n",
       "...               ...                       ...          ...         ...   \n",
       "1938     9.556140e+12            Drinking Water        1.5 L      Summer   \n",
       "1939     9.556400e+12          Lemon Lime Drink       515 ml    Gatorade   \n",
       "1940     9.716190e+12           Agua Purificada        1.5 L      Nevada   \n",
       "1941     9.716190e+12           Agua Purificada        5.0 L      Nevada   \n",
       "1942     9.716190e+12           Agua Purificada        500ml      Nevada   \n",
       "\n",
       "     manufacturer_country                manufacturer_name scan_country  \\\n",
       "0                      KE                 Al Hatim Traders           KE   \n",
       "1                      US                        Coca-Cola           CA   \n",
       "2                      UG         Oyoma General stores LTD           UG   \n",
       "3                      US                        Coca-Cola           CA   \n",
       "4                      US                        Coca-Cola           CA   \n",
       "...                   ...                              ...          ...   \n",
       "1938                   UK                      UNKNOWN_ORG           MZ   \n",
       "1939                   US                     Pepsico, Inc           MZ   \n",
       "1940                   MZ  Nevada General Supplies Co, Lda           MZ   \n",
       "1941                   MZ  Nevada General Supplies Co, Lda           MZ   \n",
       "1942                   MZ  Nevada General Supplies Co, Lda           MZ   \n",
       "\n",
       "                                               data_url  bottle_weight  \\\n",
       "0     https://wastebase.org/#/o/f434a282-c578-461d-b...            NaN   \n",
       "1     https://wastebase.org/#/o/c3710738-2999-4396-a...            NaN   \n",
       "2     https://wastebase.org/#/o/75ad3034-3ad3-4b2e-a...            NaN   \n",
       "3     https://wastebase.org/#/o/c3710738-2999-4396-a...            NaN   \n",
       "4     https://wastebase.org/#/o/c3710738-2999-4396-a...            NaN   \n",
       "...                                                 ...            ...   \n",
       "1938  https://wastebase.org/#/o/00000000-0000-0000-0...            NaN   \n",
       "1939  https://wastebase.org/#/o/fa6fbb15-8b61-4e1d-8...            NaN   \n",
       "1940  https://wastebase.org/#/o/dd241782-fd94-4a13-9...            NaN   \n",
       "1941  https://wastebase.org/#/o/dd241782-fd94-4a13-9...            NaN   \n",
       "1942  https://wastebase.org/#/o/dd241782-fd94-4a13-9...            NaN   \n",
       "\n",
       "      bottle_count    Date  \n",
       "0               11  Sep-22  \n",
       "1                1  Sep-22  \n",
       "2                1  Sep-22  \n",
       "3                1  Sep-22  \n",
       "4                2  Sep-22  \n",
       "...            ...     ...  \n",
       "1938             1  Sep-22  \n",
       "1939             1  Sep-22  \n",
       "1940            48  Sep-22  \n",
       "1941            83  Sep-22  \n",
       "1942           229  Sep-22  \n",
       "\n",
       "[1943 rows x 11 columns]"
      ]
     },
     "execution_count": 212,
     "metadata": {},
     "output_type": "execute_result"
    }
   ],
   "source": [
    "september = pd.read_csv('C:\\\\Users\\\\Aya Abo Bakr\\\\Downloads\\\\wastebase_scan_summary_202209F.csv')\n",
    "september"
   ]
  },
  {
   "cell_type": "code",
   "execution_count": 213,
   "metadata": {},
   "outputs": [
    {
     "data": {
      "text/html": [
       "<div>\n",
       "<style scoped>\n",
       "    .dataframe tbody tr th:only-of-type {\n",
       "        vertical-align: middle;\n",
       "    }\n",
       "\n",
       "    .dataframe tbody tr th {\n",
       "        vertical-align: top;\n",
       "    }\n",
       "\n",
       "    .dataframe thead th {\n",
       "        text-align: right;\n",
       "    }\n",
       "</style>\n",
       "<table border=\"1\" class=\"dataframe\">\n",
       "  <thead>\n",
       "    <tr style=\"text-align: right;\">\n",
       "      <th></th>\n",
       "      <th>bottle_count</th>\n",
       "    </tr>\n",
       "    <tr>\n",
       "      <th>Date</th>\n",
       "      <th></th>\n",
       "    </tr>\n",
       "  </thead>\n",
       "  <tbody>\n",
       "    <tr>\n",
       "      <th>Sep-22</th>\n",
       "      <td>11</td>\n",
       "    </tr>\n",
       "    <tr>\n",
       "      <th>Sep-22</th>\n",
       "      <td>1</td>\n",
       "    </tr>\n",
       "    <tr>\n",
       "      <th>Sep-22</th>\n",
       "      <td>1</td>\n",
       "    </tr>\n",
       "    <tr>\n",
       "      <th>Sep-22</th>\n",
       "      <td>1</td>\n",
       "    </tr>\n",
       "    <tr>\n",
       "      <th>Sep-22</th>\n",
       "      <td>2</td>\n",
       "    </tr>\n",
       "    <tr>\n",
       "      <th>...</th>\n",
       "      <td>...</td>\n",
       "    </tr>\n",
       "    <tr>\n",
       "      <th>Sep-22</th>\n",
       "      <td>1</td>\n",
       "    </tr>\n",
       "    <tr>\n",
       "      <th>Sep-22</th>\n",
       "      <td>1</td>\n",
       "    </tr>\n",
       "    <tr>\n",
       "      <th>Sep-22</th>\n",
       "      <td>48</td>\n",
       "    </tr>\n",
       "    <tr>\n",
       "      <th>Sep-22</th>\n",
       "      <td>83</td>\n",
       "    </tr>\n",
       "    <tr>\n",
       "      <th>Sep-22</th>\n",
       "      <td>229</td>\n",
       "    </tr>\n",
       "  </tbody>\n",
       "</table>\n",
       "<p>1943 rows × 1 columns</p>\n",
       "</div>"
      ],
      "text/plain": [
       "        bottle_count\n",
       "Date                \n",
       "Sep-22            11\n",
       "Sep-22             1\n",
       "Sep-22             1\n",
       "Sep-22             1\n",
       "Sep-22             2\n",
       "...              ...\n",
       "Sep-22             1\n",
       "Sep-22             1\n",
       "Sep-22            48\n",
       "Sep-22            83\n",
       "Sep-22           229\n",
       "\n",
       "[1943 rows x 1 columns]"
      ]
     },
     "execution_count": 213,
     "metadata": {},
     "output_type": "execute_result"
    }
   ],
   "source": [
    "# View Bottle counts of September\n",
    "september = september.set_index(['Date'])\n",
    "september=pd.DataFrame(september['bottle_count'])\n",
    "september"
   ]
  },
  {
   "cell_type": "code",
   "execution_count": 214,
   "metadata": {},
   "outputs": [
    {
     "data": {
      "text/html": [
       "<div>\n",
       "<style scoped>\n",
       "    .dataframe tbody tr th:only-of-type {\n",
       "        vertical-align: middle;\n",
       "    }\n",
       "\n",
       "    .dataframe tbody tr th {\n",
       "        vertical-align: top;\n",
       "    }\n",
       "\n",
       "    .dataframe thead th {\n",
       "        text-align: right;\n",
       "    }\n",
       "</style>\n",
       "<table border=\"1\" class=\"dataframe\">\n",
       "  <thead>\n",
       "    <tr style=\"text-align: right;\">\n",
       "      <th></th>\n",
       "      <th>bottle_count</th>\n",
       "    </tr>\n",
       "    <tr>\n",
       "      <th>Date</th>\n",
       "      <th></th>\n",
       "    </tr>\n",
       "  </thead>\n",
       "  <tbody>\n",
       "    <tr>\n",
       "      <th>Sep-22</th>\n",
       "      <td>207133</td>\n",
       "    </tr>\n",
       "  </tbody>\n",
       "</table>\n",
       "</div>"
      ],
      "text/plain": [
       "        bottle_count\n",
       "Date                \n",
       "Sep-22        207133"
      ]
     },
     "execution_count": 214,
     "metadata": {},
     "output_type": "execute_result"
    }
   ],
   "source": [
    "september = pd.pivot_table(september, index=['Date'],values=['bottle_count'],aggfunc='sum')\n",
    "september.sort_values(by=['bottle_count'])"
   ]
  },
  {
   "attachments": {},
   "cell_type": "markdown",
   "metadata": {},
   "source": [
    "### Import Rest Of The Data To Predict Next Month's bottle count"
   ]
  },
  {
   "cell_type": "code",
   "execution_count": 215,
   "metadata": {},
   "outputs": [
    {
     "data": {
      "text/html": [
       "<div>\n",
       "<style scoped>\n",
       "    .dataframe tbody tr th:only-of-type {\n",
       "        vertical-align: middle;\n",
       "    }\n",
       "\n",
       "    .dataframe tbody tr th {\n",
       "        vertical-align: top;\n",
       "    }\n",
       "\n",
       "    .dataframe thead th {\n",
       "        text-align: right;\n",
       "    }\n",
       "</style>\n",
       "<table border=\"1\" class=\"dataframe\">\n",
       "  <thead>\n",
       "    <tr style=\"text-align: right;\">\n",
       "      <th></th>\n",
       "      <th>bottle_count</th>\n",
       "    </tr>\n",
       "    <tr>\n",
       "      <th>Date</th>\n",
       "      <th></th>\n",
       "    </tr>\n",
       "  </thead>\n",
       "  <tbody>\n",
       "    <tr>\n",
       "      <th>Mar-21</th>\n",
       "      <td>1.0</td>\n",
       "    </tr>\n",
       "    <tr>\n",
       "      <th>Mar-21</th>\n",
       "      <td>1.0</td>\n",
       "    </tr>\n",
       "    <tr>\n",
       "      <th>Mar-21</th>\n",
       "      <td>1.0</td>\n",
       "    </tr>\n",
       "    <tr>\n",
       "      <th>Mar-21</th>\n",
       "      <td>9.0</td>\n",
       "    </tr>\n",
       "    <tr>\n",
       "      <th>Mar-21</th>\n",
       "      <td>6.0</td>\n",
       "    </tr>\n",
       "    <tr>\n",
       "      <th>...</th>\n",
       "      <td>...</td>\n",
       "    </tr>\n",
       "    <tr>\n",
       "      <th>Aug-22</th>\n",
       "      <td>1.0</td>\n",
       "    </tr>\n",
       "    <tr>\n",
       "      <th>Aug-22</th>\n",
       "      <td>1.0</td>\n",
       "    </tr>\n",
       "    <tr>\n",
       "      <th>Aug-22</th>\n",
       "      <td>48.0</td>\n",
       "    </tr>\n",
       "    <tr>\n",
       "      <th>Aug-22</th>\n",
       "      <td>83.0</td>\n",
       "    </tr>\n",
       "    <tr>\n",
       "      <th>Aug-22</th>\n",
       "      <td>229.0</td>\n",
       "    </tr>\n",
       "  </tbody>\n",
       "</table>\n",
       "<p>17759 rows × 1 columns</p>\n",
       "</div>"
      ],
      "text/plain": [
       "        bottle_count\n",
       "Date                \n",
       "Mar-21           1.0\n",
       "Mar-21           1.0\n",
       "Mar-21           1.0\n",
       "Mar-21           9.0\n",
       "Mar-21           6.0\n",
       "...              ...\n",
       "Aug-22           1.0\n",
       "Aug-22           1.0\n",
       "Aug-22          48.0\n",
       "Aug-22          83.0\n",
       "Aug-22         229.0\n",
       "\n",
       "[17759 rows x 1 columns]"
      ]
     },
     "execution_count": 215,
     "metadata": {},
     "output_type": "execute_result"
    }
   ],
   "source": [
    "data = pd.read_csv('D:\\\\UNI Materials\\\\Year 3\\\\Sem.1\\\\Data Analysis\\\\Project1\\\\Dataset.csv')\n",
    "# View Bottle counts\n",
    "data = data.set_index(['Date'])\n",
    "data=pd.DataFrame(data['bottle_count'])\n",
    "data"
   ]
  },
  {
   "attachments": {},
   "cell_type": "markdown",
   "metadata": {},
   "source": [
    "### View Bottle Count Of Each Month"
   ]
  },
  {
   "cell_type": "code",
   "execution_count": 216,
   "metadata": {},
   "outputs": [
    {
     "data": {
      "text/html": [
       "<div>\n",
       "<style scoped>\n",
       "    .dataframe tbody tr th:only-of-type {\n",
       "        vertical-align: middle;\n",
       "    }\n",
       "\n",
       "    .dataframe tbody tr th {\n",
       "        vertical-align: top;\n",
       "    }\n",
       "\n",
       "    .dataframe thead th {\n",
       "        text-align: right;\n",
       "    }\n",
       "</style>\n",
       "<table border=\"1\" class=\"dataframe\">\n",
       "  <thead>\n",
       "    <tr style=\"text-align: right;\">\n",
       "      <th></th>\n",
       "      <th>bottle_count</th>\n",
       "    </tr>\n",
       "    <tr>\n",
       "      <th>Date</th>\n",
       "      <th></th>\n",
       "    </tr>\n",
       "  </thead>\n",
       "  <tbody>\n",
       "    <tr>\n",
       "      <th>Mar-21</th>\n",
       "      <td>438.0</td>\n",
       "    </tr>\n",
       "    <tr>\n",
       "      <th>Apr-21</th>\n",
       "      <td>4305.0</td>\n",
       "    </tr>\n",
       "    <tr>\n",
       "      <th>May-21</th>\n",
       "      <td>11237.0</td>\n",
       "    </tr>\n",
       "    <tr>\n",
       "      <th>Jun-21</th>\n",
       "      <td>19245.0</td>\n",
       "    </tr>\n",
       "    <tr>\n",
       "      <th>Jul-21</th>\n",
       "      <td>29715.0</td>\n",
       "    </tr>\n",
       "    <tr>\n",
       "      <th>Aug-21</th>\n",
       "      <td>33475.0</td>\n",
       "    </tr>\n",
       "    <tr>\n",
       "      <th>Sep-21</th>\n",
       "      <td>38841.0</td>\n",
       "    </tr>\n",
       "    <tr>\n",
       "      <th>Oct-21</th>\n",
       "      <td>47163.0</td>\n",
       "    </tr>\n",
       "    <tr>\n",
       "      <th>Nov-21</th>\n",
       "      <td>51227.0</td>\n",
       "    </tr>\n",
       "    <tr>\n",
       "      <th>Dec-21</th>\n",
       "      <td>59624.0</td>\n",
       "    </tr>\n",
       "    <tr>\n",
       "      <th>Jan-22</th>\n",
       "      <td>92120.0</td>\n",
       "    </tr>\n",
       "    <tr>\n",
       "      <th>Feb-22</th>\n",
       "      <td>117485.0</td>\n",
       "    </tr>\n",
       "    <tr>\n",
       "      <th>Mar-22</th>\n",
       "      <td>141702.0</td>\n",
       "    </tr>\n",
       "    <tr>\n",
       "      <th>Apr-22</th>\n",
       "      <td>161536.0</td>\n",
       "    </tr>\n",
       "    <tr>\n",
       "      <th>May-22</th>\n",
       "      <td>173511.0</td>\n",
       "    </tr>\n",
       "    <tr>\n",
       "      <th>Jun-22</th>\n",
       "      <td>183565.0</td>\n",
       "    </tr>\n",
       "    <tr>\n",
       "      <th>Jul-22</th>\n",
       "      <td>198430.0</td>\n",
       "    </tr>\n",
       "    <tr>\n",
       "      <th>Aug-22</th>\n",
       "      <td>201599.0</td>\n",
       "    </tr>\n",
       "  </tbody>\n",
       "</table>\n",
       "</div>"
      ],
      "text/plain": [
       "        bottle_count\n",
       "Date                \n",
       "Mar-21         438.0\n",
       "Apr-21        4305.0\n",
       "May-21       11237.0\n",
       "Jun-21       19245.0\n",
       "Jul-21       29715.0\n",
       "Aug-21       33475.0\n",
       "Sep-21       38841.0\n",
       "Oct-21       47163.0\n",
       "Nov-21       51227.0\n",
       "Dec-21       59624.0\n",
       "Jan-22       92120.0\n",
       "Feb-22      117485.0\n",
       "Mar-22      141702.0\n",
       "Apr-22      161536.0\n",
       "May-22      173511.0\n",
       "Jun-22      183565.0\n",
       "Jul-22      198430.0\n",
       "Aug-22      201599.0"
      ]
     },
     "execution_count": 216,
     "metadata": {},
     "output_type": "execute_result"
    }
   ],
   "source": [
    "data = pd.pivot_table(data, index=['Date'],values=['bottle_count'],aggfunc='sum')\n",
    "data = data.sort_values(by=['bottle_count'])\n",
    "data"
   ]
  },
  {
   "attachments": {},
   "cell_type": "markdown",
   "metadata": {
    "papermill": {
     "duration": 0.014211,
     "end_time": "2020-11-11T15:16:08.517014",
     "exception": false,
     "start_time": "2020-11-11T15:16:08.502803",
     "status": "completed"
    },
    "tags": []
   },
   "source": [
    "# ARIMA: Time series analysis"
   ]
  },
  {
   "cell_type": "markdown",
   "metadata": {
    "papermill": {
     "duration": 0.014073,
     "end_time": "2020-11-11T15:16:08.545521",
     "exception": false,
     "start_time": "2020-11-11T15:16:08.531448",
     "status": "completed"
    },
    "tags": []
   },
   "source": [
    "## Plot time series data"
   ]
  },
  {
   "cell_type": "code",
   "execution_count": 217,
   "metadata": {},
   "outputs": [
    {
     "data": {
      "image/png": "[encoded data removed]",
      "text/plain": [
       "<Figure size 1440x432 with 1 Axes>"
      ]
     },
     "metadata": {
      "needs_background": "light"
     },
     "output_type": "display_data"
    }
   ],
   "source": [
    "data.plot(figsize=(20, 6))\n",
    "plt.grid()\n",
    "plt.legend(loc='best')\n",
    "plt.title('Bottle Counts')\n",
    "plt.show(block=False)"
   ]
  },
  {
   "attachments": {},
   "cell_type": "markdown",
   "metadata": {},
   "source": [
    "### We could see it's non-stationary, so to apply ARIMA it will require differencing to make it stationary"
   ]
  },
  {
   "cell_type": "code",
   "execution_count": 218,
   "metadata": {},
   "outputs": [
    {
     "name": "stdout",
     "output_type": "stream",
     "text": [
      "                               SARIMAX Results                                \n",
      "==============================================================================\n",
      "Dep. Variable:           bottle_count   No. Observations:                   18\n",
      "Model:                 ARIMA(1, 1, 1)   Log Likelihood                -175.758\n",
      "Date:                Tue, 03 Jan 2023   AIC                            357.516\n",
      "Time:                        12:22:50   BIC                            360.015\n",
      "Sample:                             0   HQIC                           357.764\n",
      "                                 - 18                                         \n",
      "Covariance Type:                  opg                                         \n",
      "==============================================================================\n",
      "                 coef    std err          z      P>|z|      [0.025      0.975]\n",
      "------------------------------------------------------------------------------\n",
      "ar.L1          0.8764      0.379      2.312      0.021       0.133       1.619\n",
      "ma.L1         -0.0550      0.862     -0.064      0.949      -1.745       1.635\n",
      "sigma2      6.804e+07   2.26e-08   3.01e+15      0.000     6.8e+07     6.8e+07\n",
      "===================================================================================\n",
      "Ljung-Box (L1) (Q):                   0.11   Jarque-Bera (JB):                22.45\n",
      "Prob(Q):                              0.74   Prob(JB):                         0.00\n",
      "Heteroskedasticity (H):               2.21   Skew:                             1.75\n",
      "Prob(H) (two-sided):                  0.36   Kurtosis:                         7.41\n",
      "===================================================================================\n",
      "\n",
      "Warnings:\n",
      "[1] Covariance matrix calculated using the outer product of gradients (complex-step).\n",
      "[2] Covariance matrix is singular or near-singular, with condition number 2.82e+31. Standard errors may be unstable.\n"
     ]
    },
    {
     "data": {
      "image/png": "[encoded data removed]",
      "text/plain": [
       "<Figure size 432x288 with 1 Axes>"
      ]
     },
     "metadata": {
      "needs_background": "light"
     },
     "output_type": "display_data"
    },
    {
     "data": {
      "image/png": "[encoded data removed]",
      "text/plain": [
       "<Figure size 432x288 with 1 Axes>"
      ]
     },
     "metadata": {
      "needs_background": "light"
     },
     "output_type": "display_data"
    },
    {
     "name": "stdout",
     "output_type": "stream",
     "text": [
      "                  0\n",
      "count     18.000000\n",
      "mean    1657.950908\n",
      "std     7194.187772\n",
      "min    -9527.806014\n",
      "25%    -1609.363460\n",
      "50%     1838.218669\n",
      "75%     3680.411977\n",
      "max    25393.771590\n"
     ]
    }
   ],
   "source": [
    "from pandas import DataFrame\n",
    "from statsmodels.tsa.arima.model import ARIMA\n",
    "\n",
    "# fit model\n",
    "model = ARIMA(data, order=(1,1,1))\n",
    "model_fit = model.fit()\n",
    "print(model_fit.summary())\n",
    "# line plot of residuals\n",
    "residuals = DataFrame(model_fit.resid)\n",
    "residuals.plot()\n",
    "plt.show()\n",
    "# density plot of residuals\n",
    "residuals.plot(kind='kde')\n",
    "plt.show()\n",
    "# summary stats of residuals\n",
    "print(residuals.describe())"
   ]
  },
  {
   "cell_type": "code",
   "execution_count": 219,
   "metadata": {},
   "outputs": [
    {
     "data": {
      "text/plain": [
       "array([[   438.],\n",
       "       [  4305.],\n",
       "       [ 11237.],\n",
       "       [ 19245.],\n",
       "       [ 29715.],\n",
       "       [ 33475.],\n",
       "       [ 38841.],\n",
       "       [ 47163.],\n",
       "       [ 51227.],\n",
       "       [ 59624.],\n",
       "       [ 92120.],\n",
       "       [117485.],\n",
       "       [141702.],\n",
       "       [161536.],\n",
       "       [173511.],\n",
       "       [183565.],\n",
       "       [198430.],\n",
       "       [201599.]])"
      ]
     },
     "execution_count": 219,
     "metadata": {},
     "output_type": "execute_result"
    }
   ],
   "source": [
    "data.values"
   ]
  },
  {
   "cell_type": "code",
   "execution_count": 220,
   "metadata": {},
   "outputs": [
    {
     "name": "stdout",
     "output_type": "stream",
     "text": [
      "predicted=143323.855319, expected=141702.000000\n",
      "predicted=166226.396381, expected=161536.000000\n",
      "predicted=181096.105187, expected=173511.000000\n",
      "predicted=184017.056797, expected=183565.000000\n",
      "predicted=192413.698185, expected=198430.000000\n",
      "predicted=211844.118642, expected=201599.000000\n",
      "Test RMSE: 6103.643\n"
     ]
    },
    {
     "data": {
      "image/png": "[encoded data removed]",
      "text/plain": [
       "<Figure size 432x288 with 1 Axes>"
      ]
     },
     "metadata": {
      "needs_background": "light"
     },
     "output_type": "display_data"
    }
   ],
   "source": [
    "# evaluate an ARIMA model using a walk-forward validation\n",
    "from statsmodels.tsa.arima.model import ARIMA\n",
    "from sklearn.metrics import mean_squared_error\n",
    "from math import sqrt\n",
    "\n",
    "# split into train and test sets\n",
    "X = data.values\n",
    "size = int(len(X) * 0.7)\n",
    "train, test = X[0:size], X[size:len(X)]\n",
    "history = [x for x in train]\n",
    "predictions = list()\n",
    "# walk-forward validation\n",
    "for t in range(len(test)):\n",
    " model = ARIMA(history, order=(1,1,1))\n",
    " model_fit = model.fit()\n",
    " output = model_fit.forecast()\n",
    " yhat = output[0]\n",
    " predictions.append(yhat)\n",
    " obs = test[t]\n",
    " history.append(obs)\n",
    " print('predicted=%f, expected=%f' % (yhat, obs))\n",
    "# evaluate forecasts\n",
    "rmse = sqrt(mean_squared_error(test, predictions))\n",
    "print('Test RMSE: %.3f' % rmse)\n",
    "# plot forecasts against actual outcomes\n",
    "plt.plot(test)\n",
    "plt.plot(predictions, color='red')\n",
    "plt.show()"
   ]
  },
  {
   "cell_type": "code",
   "execution_count": 221,
   "metadata": {},
   "outputs": [
    {
     "data": {
      "text/html": [
       "<div>\n",
       "<style scoped>\n",
       "    .dataframe tbody tr th:only-of-type {\n",
       "        vertical-align: middle;\n",
       "    }\n",
       "\n",
       "    .dataframe tbody tr th {\n",
       "        vertical-align: top;\n",
       "    }\n",
       "\n",
       "    .dataframe thead th {\n",
       "        text-align: right;\n",
       "    }\n",
       "</style>\n",
       "<table border=\"1\" class=\"dataframe\">\n",
       "  <thead>\n",
       "    <tr style=\"text-align: right;\">\n",
       "      <th></th>\n",
       "      <th>bottle_count</th>\n",
       "    </tr>\n",
       "    <tr>\n",
       "      <th>Date</th>\n",
       "      <th></th>\n",
       "    </tr>\n",
       "  </thead>\n",
       "  <tbody>\n",
       "    <tr>\n",
       "      <th>Sep-22</th>\n",
       "      <td>207133</td>\n",
       "    </tr>\n",
       "  </tbody>\n",
       "</table>\n",
       "</div>"
      ],
      "text/plain": [
       "        bottle_count\n",
       "Date                \n",
       "Sep-22        207133"
      ]
     },
     "execution_count": 221,
     "metadata": {},
     "output_type": "execute_result"
    }
   ],
   "source": [
    "september"
   ]
  }
 ],
 "metadata": {
  "kernelspec": {
   "display_name": "Python 3",
   "language": "python",
   "name": "python3"
  },
  "language_info": {
   "codemirror_mode": {
    "name": "ipython",
    "version": 3
   },
   "file_extension": ".py",
   "mimetype": "text/x-python",
   "name": "python",
   "nbconvert_exporter": "python",
   "pygments_lexer": "ipython3",
   "version": "3.10.2"
  },
  "orig_nbformat": 4,
  "vscode": {
   "interpreter": {
    "hash": "3efc384c294b49c19f14d8c35db19da6e1745822209d2d604d281b90cfd75519"
   }
  }
 },
 "nbformat": 4,
 "nbformat_minor": 2
}
